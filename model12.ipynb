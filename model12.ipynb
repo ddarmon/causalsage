{
 "cells": [
  {
   "cell_type": "markdown",
   "metadata": {},
   "source": [
    "# DAG with \"Bad\" Control: Model 12 from *A Crash Course in Good and Bad Controls*\n",
    "## 210521"
   ]
  },
  {
   "cell_type": "markdown",
   "metadata": {},
   "source": [
    "![](Model12.png)"
   ]
  },
  {
   "cell_type": "code",
   "execution_count": 1,
   "metadata": {},
   "outputs": [],
   "source": [
    "from causalsage import *"
   ]
  },
  {
   "cell_type": "code",
   "execution_count": 2,
   "metadata": {},
   "outputs": [],
   "source": [
    "%display latex"
   ]
  },
  {
   "cell_type": "code",
   "execution_count": 3,
   "metadata": {},
   "outputs": [],
   "source": [
    "for i in range(4):\n",
    "    for j in range(4):\n",
    "        var('w%d%d' % (i, j))"
   ]
  },
  {
   "cell_type": "markdown",
   "metadata": {},
   "source": [
    "# Compute Overall Covariance Matrix from DAG"
   ]
  },
  {
   "cell_type": "markdown",
   "metadata": {},
   "source": [
    "$$W_{ij} = W_{i \\gets j}$$"
   ]
  },
  {
   "cell_type": "code",
   "execution_count": 13,
   "metadata": {},
   "outputs": [
    {
     "data": {
      "text/html": [
       "<html><script type=\"math/tex; mode=display\">\\newcommand{\\Bold}[1]{\\mathbf{#1}}\\left(\\begin{array}{rrrr}\n",
       "0 & 0 & 0 & 0 \\\\\n",
       "w_{10} & 0 & 0 & 0 \\\\\n",
       "0 & w_{21} & 0 & 0 \\\\\n",
       "0 & w_{31} & 0 & 0\n",
       "\\end{array}\\right)</script></html>"
      ],
      "text/plain": [
       "[  0   0   0   0]\n",
       "[w10   0   0   0]\n",
       "[  0 w21   0   0]\n",
       "[  0 w31   0   0]"
      ]
     },
     "execution_count": 13,
     "metadata": {},
     "output_type": "execute_result"
    }
   ],
   "source": [
    "W = matrix([[0, 0, 0, 0], # to 0\n",
    "            [w10, 0, 0, 0], # to 1\n",
    "            [0, w21, 0, 0], # to 2\n",
    "            [0, w31, 0, 0]]) # to 3\n",
    "    \n",
    "W"
   ]
  },
  {
   "cell_type": "code",
   "execution_count": 14,
   "metadata": {},
   "outputs": [
    {
     "data": {
      "text/html": [
       "<html><script type=\"math/tex; mode=display\">\\newcommand{\\Bold}[1]{\\mathbf{#1}}\\left(\\begin{array}{rrrr}\n",
       "1 & w_{10} & w_{10} w_{21} & w_{10} w_{31} \\\\\n",
       "w_{10} & w_{10}^{2} + 1 & w_{10}^{2} w_{21} + w_{21} & w_{10}^{2} w_{31} + w_{31} \\\\\n",
       "w_{10} w_{21} & w_{10}^{2} w_{21} + w_{21} & w_{10}^{2} w_{21}^{2} + w_{21}^{2} + 1 & w_{10}^{2} w_{21} w_{31} + w_{21} w_{31} \\\\\n",
       "w_{10} w_{31} & w_{10}^{2} w_{31} + w_{31} & w_{10}^{2} w_{21} w_{31} + w_{21} w_{31} & w_{10}^{2} w_{31}^{2} + w_{31}^{2} + 1\n",
       "\\end{array}\\right)</script></html>"
      ],
      "text/plain": [
       "[                      1                     w10                 w10*w21                 w10*w31]\n",
       "[                    w10               w10^2 + 1         w10^2*w21 + w21         w10^2*w31 + w31]\n",
       "[                w10*w21         w10^2*w21 + w21 w10^2*w21^2 + w21^2 + 1 w10^2*w21*w31 + w21*w31]\n",
       "[                w10*w31         w10^2*w31 + w31 w10^2*w21*w31 + w21*w31 w10^2*w31^2 + w31^2 + 1]"
      ]
     },
     "execution_count": 14,
     "metadata": {},
     "output_type": "execute_result"
    }
   ],
   "source": [
    "Cov_total = Sigma_from_W(W)\n",
    "\n",
    "Cov_total"
   ]
  },
  {
   "cell_type": "code",
   "execution_count": 15,
   "metadata": {},
   "outputs": [
    {
     "data": {
      "text/html": [
       "<html><script type=\"math/tex; mode=display\">\\newcommand{\\Bold}[1]{\\mathbf{#1}}\\left[1, w_{10}^{2} + 1, w_{10}^{2} w_{21}^{2} + w_{21}^{2} + 1, w_{10}^{2} w_{31}^{2} + w_{31}^{2} + 1\\right]</script></html>"
      ],
      "text/plain": [
       "[1, w10^2 + 1, w10^2*w21^2 + w21^2 + 1, w10^2*w31^2 + w31^2 + 1]"
      ]
     },
     "execution_count": 15,
     "metadata": {},
     "output_type": "execute_result"
    }
   ],
   "source": [
    "[Cov_total[i, i] for i in range(4)]"
   ]
  },
  {
   "cell_type": "markdown",
   "metadata": {},
   "source": [
    "# Compute Partial Covariance Matrix from DAG"
   ]
  },
  {
   "cell_type": "code",
   "execution_count": 22,
   "metadata": {},
   "outputs": [
    {
     "data": {
      "text/html": [
       "<html><script type=\"math/tex; mode=display\">\\newcommand{\\Bold}[1]{\\mathbf{#1}}\\left(\\begin{array}{rr}\n",
       "1 & w_{10} w_{21} \\\\\n",
       "w_{10} w_{21} & w_{10}^{2} w_{21}^{2} + w_{21}^{2} + 1\n",
       "\\end{array}\\right)</script></html>"
      ],
      "text/plain": [
       "[                      1                 w10*w21]\n",
       "[                w10*w21 w10^2*w21^2 + w21^2 + 1]"
      ]
     },
     "execution_count": 22,
     "metadata": {},
     "output_type": "execute_result"
    }
   ],
   "source": [
    "## Example: Compute Cov(0, 2)\n",
    "\n",
    "targets = [0, 2]\n",
    "condset = []\n",
    "\n",
    "partial_covariance_matrix(targets, condset, Cov_total)"
   ]
  },
  {
   "cell_type": "markdown",
   "metadata": {},
   "source": [
    "## Example: Compute Cov(0, 2 | 3)"
   ]
  },
  {
   "cell_type": "code",
   "execution_count": 21,
   "metadata": {},
   "outputs": [
    {
     "data": {
      "text/html": [
       "<html><script type=\"math/tex; mode=display\">\\newcommand{\\Bold}[1]{\\mathbf{#1}}\\left(\\begin{array}{rr}\n",
       "-\\frac{w_{10}^{2} w_{31}^{2}}{w_{10}^{2} w_{31}^{2} + w_{31}^{2} + 1} + 1 & w_{10} w_{21} - \\frac{{\\left(w_{10}^{2} w_{21} w_{31} + w_{21} w_{31}\\right)} w_{10} w_{31}}{w_{10}^{2} w_{31}^{2} + w_{31}^{2} + 1} \\\\\n",
       "w_{10} w_{21} - \\frac{{\\left(w_{10}^{2} w_{21} w_{31} + w_{21} w_{31}\\right)} w_{10} w_{31}}{w_{10}^{2} w_{31}^{2} + w_{31}^{2} + 1} & w_{10}^{2} w_{21}^{2} + w_{21}^{2} - \\frac{{\\left(w_{10}^{2} w_{21} w_{31} + w_{21} w_{31}\\right)}^{2}}{w_{10}^{2} w_{31}^{2} + w_{31}^{2} + 1} + 1\n",
       "\\end{array}\\right)</script></html>"
      ],
      "text/plain": [
       "[                                     -w10^2*w31^2/(w10^2*w31^2 + w31^2 + 1) + 1           w10*w21 - (w10^2*w21*w31 + w21*w31)*w10*w31/(w10^2*w31^2 + w31^2 + 1)]\n",
       "[          w10*w21 - (w10^2*w21*w31 + w21*w31)*w10*w31/(w10^2*w31^2 + w31^2 + 1) w10^2*w21^2 + w21^2 - (w10^2*w21*w31 + w21*w31)^2/(w10^2*w31^2 + w31^2 + 1) + 1]"
      ]
     },
     "execution_count": 21,
     "metadata": {},
     "output_type": "execute_result"
    }
   ],
   "source": [
    "targets = [0, 2]\n",
    "condset = [3]\n",
    "\n",
    "partial_covariance_matrix(targets, condset, Cov_total)"
   ]
  },
  {
   "cell_type": "markdown",
   "metadata": {},
   "source": [
    "# Compute Partial Regression Coefficients from DAG"
   ]
  },
  {
   "cell_type": "markdown",
   "metadata": {},
   "source": [
    "$$\\beta_{YX \\cdot Z} = \\frac{\\gamma_{YX \\cdot Z}}{\\sigma_{X \\cdot Z}^{2}}$$"
   ]
  },
  {
   "cell_type": "markdown",
   "metadata": {},
   "source": [
    "## $\\beta_{20}$ vs. $\\beta_{20 \\cdot 3}$"
   ]
  },
  {
   "cell_type": "markdown",
   "metadata": {},
   "source": [
    "Here, conditioning on $X_{3}$ biases the coefficient away from the causal effect of $X_{0}$ on $X_{2}$."
   ]
  },
  {
   "cell_type": "code",
   "execution_count": 18,
   "metadata": {
    "scrolled": true
   },
   "outputs": [
    {
     "data": {
      "text/html": [
       "<html><script type=\"math/tex; mode=display\">\\newcommand{\\Bold}[1]{\\mathbf{#1}}w_{10} w_{21}</script></html>"
      ],
      "text/plain": [
       "w10*w21"
      ]
     },
     "execution_count": 18,
     "metadata": {},
     "output_type": "execute_result"
    }
   ],
   "source": [
    "partial_regression_coefficient(response=2, predictor=0, condset=[], Sigma=Cov_total).full_simplify()"
   ]
  },
  {
   "cell_type": "code",
   "execution_count": 19,
   "metadata": {},
   "outputs": [
    {
     "data": {
      "text/html": [
       "<html><script type=\"math/tex; mode=display\">\\newcommand{\\Bold}[1]{\\mathbf{#1}}\\frac{w_{10} w_{21}}{w_{31}^{2} + 1}</script></html>"
      ],
      "text/plain": [
       "w10*w21/(w31^2 + 1)"
      ]
     },
     "execution_count": 19,
     "metadata": {},
     "output_type": "execute_result"
    }
   ],
   "source": [
    "partial_regression_coefficient(response=2, predictor=0, condset=[3], Sigma=Cov_total).full_simplify()"
   ]
  },
  {
   "cell_type": "code",
   "execution_count": null,
   "metadata": {},
   "outputs": [],
   "source": []
  }
 ],
 "metadata": {
  "kernelspec": {
   "display_name": "SageMath 9.1",
   "language": "sage",
   "name": "sagemath"
  },
  "language_info": {
   "codemirror_mode": {
    "name": "ipython",
    "version": 2
   },
   "file_extension": ".py",
   "mimetype": "text/x-python",
   "name": "python",
   "nbconvert_exporter": "python",
   "pygments_lexer": "ipython2",
   "version": "2.7.15"
  }
 },
 "nbformat": 4,
 "nbformat_minor": 2
}
