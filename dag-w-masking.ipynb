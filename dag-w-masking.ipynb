{
 "cells": [
  {
   "cell_type": "markdown",
   "metadata": {},
   "source": [
    "# Unfaithful Medium-sized DAG\n",
    "## 120521"
   ]
  },
  {
   "cell_type": "code",
   "execution_count": 8,
   "metadata": {},
   "outputs": [],
   "source": [
    "from causalsage import *"
   ]
  },
  {
   "cell_type": "markdown",
   "metadata": {},
   "source": [
    "![](dag-w-masking.png)"
   ]
  },
  {
   "cell_type": "code",
   "execution_count": 9,
   "metadata": {},
   "outputs": [],
   "source": [
    "%display plain"
   ]
  },
  {
   "cell_type": "code",
   "execution_count": 10,
   "metadata": {},
   "outputs": [
    {
     "data": {
      "text/plain": [
       "(delta, gamma, beta)"
      ]
     },
     "execution_count": 10,
     "metadata": {},
     "output_type": "execute_result"
    }
   ],
   "source": [
    "var('delta gamma beta')"
   ]
  },
  {
   "cell_type": "markdown",
   "metadata": {},
   "source": [
    "# Compute Overall Covariance Matrix from DAG"
   ]
  },
  {
   "cell_type": "markdown",
   "metadata": {},
   "source": [
    "$$W_{ij} = W_{i \\gets j}$$"
   ]
  },
  {
   "cell_type": "code",
   "execution_count": 11,
   "metadata": {},
   "outputs": [
    {
     "data": {
      "text/plain": [
       "[    0     0     0]\n",
       "[ beta     0     0]\n",
       "[delta gamma     0]"
      ]
     },
     "execution_count": 11,
     "metadata": {},
     "output_type": "execute_result"
    }
   ],
   "source": [
    "W = matrix([[0, 0, 0], # to 0\n",
    "            [beta, 0, 0], # to 1\n",
    "            [delta, gamma, 0]]) # to 2\n",
    "    \n",
    "W"
   ]
  },
  {
   "cell_type": "code",
   "execution_count": 12,
   "metadata": {},
   "outputs": [
    {
     "data": {
      "text/plain": [
       "[                 1                  0                  0]\n",
       "[              beta                  1                  0]\n",
       "[beta*gamma + delta              gamma                  1]"
      ]
     },
     "execution_count": 12,
     "metadata": {},
     "output_type": "execute_result"
    }
   ],
   "source": [
    "P = (identity_matrix(len(W.columns())) - W).inverse()\n",
    "P"
   ]
  },
  {
   "cell_type": "code",
   "execution_count": 13,
   "metadata": {},
   "outputs": [
    {
     "data": {
      "text/plain": [
       "[1, beta^2 + 1, (beta*gamma + delta)^2 + gamma^2 + 1]"
      ]
     },
     "execution_count": 13,
     "metadata": {},
     "output_type": "execute_result"
    }
   ],
   "source": [
    "Cov_total = P*P.T\n",
    "\n",
    "[Cov_total[i, i] for i in range(3)]"
   ]
  },
  {
   "cell_type": "markdown",
   "metadata": {},
   "source": [
    "# Compute Partial Covariance Matrix from DAG"
   ]
  },
  {
   "cell_type": "markdown",
   "metadata": {},
   "source": [
    "Recall that\n",
    "\n",
    "$$\n",
    "\\begin{aligned}  \n",
    "\t \\Sigma_{X \\mid Z} &= \\Sigma_{X} - \\Sigma_{XZ} \\Sigma_{ZZ}^{-1} \\Sigma_{ZX} \\\\\n",
    "     \\Sigma_{X \\mid Z} &= \\Sigma_{X} - \\Sigma_{XZ} \\Sigma_{ZZ}^{-1} \\Sigma_{XZ}^{T}\n",
    "\\end{aligned}\n",
    "$$"
   ]
  },
  {
   "cell_type": "markdown",
   "metadata": {},
   "source": [
    "So you need: the indices for X and the indices for Z\n",
    "\n",
    "You can then extract the relevant submatrices and perform the computation."
   ]
  },
  {
   "cell_type": "markdown",
   "metadata": {},
   "source": [
    "## Example: Compute Cov(0, 1 | 2)"
   ]
  },
  {
   "cell_type": "code",
   "execution_count": 14,
   "metadata": {},
   "outputs": [],
   "source": [
    "targets = [0, 1]\n",
    "condset = [2]"
   ]
  },
  {
   "cell_type": "code",
   "execution_count": 15,
   "metadata": {},
   "outputs": [
    {
     "data": {
      "text/plain": [
       "[         1       beta]\n",
       "[      beta beta^2 + 1]"
      ]
     },
     "execution_count": 15,
     "metadata": {},
     "output_type": "execute_result"
    }
   ],
   "source": [
    "SigmaX = extract_submatrix(targets, targets, Cov_total)\n",
    "\n",
    "SigmaX"
   ]
  },
  {
   "cell_type": "code",
   "execution_count": 16,
   "metadata": {},
   "outputs": [
    {
     "data": {
      "text/plain": [
       "[               beta*gamma + delta]\n",
       "[(beta*gamma + delta)*beta + gamma]"
      ]
     },
     "execution_count": 16,
     "metadata": {},
     "output_type": "execute_result"
    }
   ],
   "source": [
    "SigmaXZ = extract_submatrix(targets, condset, Cov_total)\n",
    "SigmaXZ"
   ]
  },
  {
   "cell_type": "code",
   "execution_count": 17,
   "metadata": {},
   "outputs": [
    {
     "data": {
      "text/plain": [
       "[(beta*gamma + delta)^2 + gamma^2 + 1]"
      ]
     },
     "execution_count": 17,
     "metadata": {},
     "output_type": "execute_result"
    }
   ],
   "source": [
    "SigmaZ = extract_submatrix(condset, condset, Cov_total)\n",
    "\n",
    "SigmaZ"
   ]
  },
  {
   "cell_type": "code",
   "execution_count": 18,
   "metadata": {
    "scrolled": true
   },
   "outputs": [
    {
     "data": {
      "text/plain": [
       "[                                     -(beta*gamma + delta)^2/((beta*gamma + delta)^2 + gamma^2 + 1) + 1 -((beta*gamma + delta)*beta + gamma)*(beta*gamma + delta)/((beta*gamma + delta)^2 + gamma^2 + 1) + beta]\n",
       "[-((beta*gamma + delta)*beta + gamma)*(beta*gamma + delta)/((beta*gamma + delta)^2 + gamma^2 + 1) + beta               beta^2 - ((beta*gamma + delta)*beta + gamma)^2/((beta*gamma + delta)^2 + gamma^2 + 1) + 1]"
      ]
     },
     "execution_count": 18,
     "metadata": {},
     "output_type": "execute_result"
    }
   ],
   "source": [
    "SigmaXgZ = SigmaX  - SigmaXZ*SigmaZ.inverse()*SigmaXZ.T\n",
    "SigmaXgZ"
   ]
  },
  {
   "cell_type": "markdown",
   "metadata": {},
   "source": [
    "$$\n",
    "\\begin{aligned}  \n",
    "\t \\Sigma_{X \\mid Z} &= \\Sigma_{X} - \\Sigma_{XZ} \\Sigma_{ZZ}^{-1} \\Sigma_{ZX} \\\\\n",
    "     \\Sigma_{X \\mid Z} &= \\Sigma_{X} - \\Sigma_{XZ} \\Sigma_{ZZ}^{-1} \\Sigma_{XZ}^{T}\n",
    "\\end{aligned}\n",
    "$$"
   ]
  },
  {
   "cell_type": "code",
   "execution_count": 19,
   "metadata": {},
   "outputs": [
    {
     "data": {
      "text/plain": [
       "[                                     -(beta*gamma + delta)^2/((beta*gamma + delta)^2 + gamma^2 + 1) + 1 -((beta*gamma + delta)*beta + gamma)*(beta*gamma + delta)/((beta*gamma + delta)^2 + gamma^2 + 1) + beta]\n",
       "[-((beta*gamma + delta)*beta + gamma)*(beta*gamma + delta)/((beta*gamma + delta)^2 + gamma^2 + 1) + beta               beta^2 - ((beta*gamma + delta)*beta + gamma)^2/((beta*gamma + delta)^2 + gamma^2 + 1) + 1]"
      ]
     },
     "execution_count": 19,
     "metadata": {},
     "output_type": "execute_result"
    }
   ],
   "source": [
    "partial_covariance_matrix(targets, condset, Cov_total)"
   ]
  },
  {
   "cell_type": "markdown",
   "metadata": {},
   "source": [
    "# Compute Partial Regression Coefficients from DAG"
   ]
  },
  {
   "cell_type": "markdown",
   "metadata": {},
   "source": [
    "$$\\beta_{YX \\cdot Z} = \\frac{\\gamma_{YX \\cdot Z}}{\\sigma_{X \\cdot Z}^{2}}$$"
   ]
  },
  {
   "cell_type": "code",
   "execution_count": 25,
   "metadata": {},
   "outputs": [
    {
     "name": "stdout",
     "output_type": "stream",
     "text": [
      "(beta*delta + (beta^2 + 1)*gamma)/(beta^2 + 1)\n",
      "gamma\n"
     ]
    }
   ],
   "source": [
    "print(partial_regression_coefficient(response=2, predictor=1, condset=[], Sigma=Cov_total).full_simplify())\n",
    "\n",
    "print(partial_regression_coefficient(response=2, predictor=1, condset=[0], Sigma=Cov_total).full_simplify())"
   ]
  },
  {
   "cell_type": "code",
   "execution_count": 26,
   "metadata": {},
   "outputs": [
    {
     "name": "stdout",
     "output_type": "stream",
     "text": [
      "beta*gamma + delta\n",
      "delta\n"
     ]
    }
   ],
   "source": [
    "print(partial_regression_coefficient(response=2, predictor=0, condset=[], Sigma=Cov_total).full_simplify())\n",
    "\n",
    "print(partial_regression_coefficient(response=2, predictor=0, condset=[1], Sigma=Cov_total).full_simplify())"
   ]
  },
  {
   "cell_type": "code",
   "execution_count": null,
   "metadata": {},
   "outputs": [],
   "source": []
  }
 ],
 "metadata": {
  "kernelspec": {
   "display_name": "SageMath 9.1",
   "language": "sage",
   "name": "sagemath"
  },
  "language_info": {
   "codemirror_mode": {
    "name": "ipython",
    "version": 2
   },
   "file_extension": ".py",
   "mimetype": "text/x-python",
   "name": "python",
   "nbconvert_exporter": "python",
   "pygments_lexer": "ipython2",
   "version": "2.7.15"
  }
 },
 "nbformat": 4,
 "nbformat_minor": 2
}
