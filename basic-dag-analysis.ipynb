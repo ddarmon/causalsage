{
 "cells": [
  {
   "cell_type": "markdown",
   "metadata": {},
   "source": [
    "# Unfaithful Medium-sized DAG\n",
    "## 120521"
   ]
  },
  {
   "cell_type": "code",
   "execution_count": 1,
   "metadata": {},
   "outputs": [],
   "source": [
    "from causalsage import *"
   ]
  },
  {
   "cell_type": "markdown",
   "metadata": {},
   "source": [
    "![](2.9.png)"
   ]
  },
  {
   "cell_type": "markdown",
   "metadata": {},
   "source": [
    "0 = Z1\n",
    "\n",
    "1 = Z2\n",
    "\n",
    "2 = Z3\n",
    "\n",
    "3 = X\n",
    "\n",
    "4 = W\n",
    "\n",
    "5 = Y"
   ]
  },
  {
   "cell_type": "code",
   "execution_count": 2,
   "metadata": {},
   "outputs": [],
   "source": [
    "%display plain"
   ]
  },
  {
   "cell_type": "code",
   "execution_count": 3,
   "metadata": {},
   "outputs": [],
   "source": [
    "for i in range(6):\n",
    "    for j in range(6):\n",
    "        var('beta%d%d' % (i, j))"
   ]
  },
  {
   "cell_type": "markdown",
   "metadata": {},
   "source": [
    "# Compute Overall Covariance Matrix from DAG"
   ]
  },
  {
   "cell_type": "markdown",
   "metadata": {},
   "source": [
    "$$W_{ij} = W_{i \\gets j}$$"
   ]
  },
  {
   "cell_type": "code",
   "execution_count": 4,
   "metadata": {},
   "outputs": [
    {
     "data": {
      "text/plain": [
       "[     0      0      0      0      0      0]\n",
       "[     0      0      0      0      0      0]\n",
       "[beta02 beta12      0      0      0      0]\n",
       "[beta03      0 beta23      0      0      0]\n",
       "[     0      0      0 beta34      0      0]\n",
       "[     0 beta15 beta25      0 beta45      0]"
      ]
     },
     "execution_count": 4,
     "metadata": {},
     "output_type": "execute_result"
    }
   ],
   "source": [
    "W = matrix([[0, 0, 0, 0, 0, 0], # To Z1\n",
    "           [0, 0, 0, 0, 0, 0], # To Z2\n",
    "           [beta02, beta12, 0, 0, 0, 0], # To Z3\n",
    "           [beta03, 0, beta23, 0, 0, 0], # To X\n",
    "           [0, 0, 0, beta34, 0, 0], # To W\n",
    "           [0, beta15, beta25, 0, beta45, 0]]) # To Y\n",
    "\n",
    "W"
   ]
  },
  {
   "cell_type": "code",
   "execution_count": 5,
   "metadata": {},
   "outputs": [
    {
     "data": {
      "text/plain": [
       "[                                                     1                                                      0                                                      0                                                      0                                                      0                                                      0]\n",
       "[                                                     0                                                      1                                                      0                                                      0                                                      0                                                      0]\n",
       "[                                                beta02                                                 beta12                                                      1                                                      0                                                      0                                                      0]\n",
       "[                                beta02*beta23 + beta03                                          beta12*beta23                                                 beta23                                                      1                                                      0                                                      0]\n",
       "[                       (beta02*beta23 + beta03)*beta34                                   beta12*beta23*beta34                                          beta23*beta34                                                 beta34                                                      1                                                      0]\n",
       "[(beta02*beta23 + beta03)*beta34*beta45 + beta02*beta25   beta12*beta23*beta34*beta45 + beta12*beta25 + beta15                          beta23*beta34*beta45 + beta25                                          beta34*beta45                                                 beta45                                                      1]"
      ]
     },
     "execution_count": 5,
     "metadata": {},
     "output_type": "execute_result"
    }
   ],
   "source": [
    "P = (identity_matrix(len(W.columns())) - W).inverse()\n",
    "P"
   ]
  },
  {
   "cell_type": "code",
   "execution_count": 6,
   "metadata": {},
   "outputs": [
    {
     "data": {
      "text/plain": [
       "[1,\n",
       " 1,\n",
       " beta02^2 + beta12^2 + 1,\n",
       " beta12^2*beta23^2 + (beta02*beta23 + beta03)^2 + beta23^2 + 1,\n",
       " beta12^2*beta23^2*beta34^2 + (beta02*beta23 + beta03)^2*beta34^2 + beta23^2*beta34^2 + beta34^2 + 1,\n",
       " beta34^2*beta45^2 + (beta12*beta23*beta34*beta45 + beta12*beta25 + beta15)^2 + ((beta02*beta23 + beta03)*beta34*beta45 + beta02*beta25)^2 + (beta23*beta34*beta45 + beta25)^2 + beta45^2 + 1]"
      ]
     },
     "execution_count": 6,
     "metadata": {},
     "output_type": "execute_result"
    }
   ],
   "source": [
    "Cov_total = P*P.T\n",
    "\n",
    "[Cov_total[i, i] for i in range(6)]"
   ]
  },
  {
   "cell_type": "markdown",
   "metadata": {},
   "source": [
    "# Compute Partial Covariance Matrix from DAG"
   ]
  },
  {
   "cell_type": "markdown",
   "metadata": {},
   "source": [
    "Recall that\n",
    "\n",
    "$$\n",
    "\\begin{aligned}  \n",
    "\t \\Sigma_{X \\mid Z} &= \\Sigma_{X} - \\Sigma_{XZ} \\Sigma_{ZZ}^{-1} \\Sigma_{ZX} \\\\\n",
    "     \\Sigma_{X \\mid Z} &= \\Sigma_{X} - \\Sigma_{XZ} \\Sigma_{ZZ}^{-1} \\Sigma_{XZ}^{T}\n",
    "\\end{aligned}\n",
    "$$"
   ]
  },
  {
   "cell_type": "markdown",
   "metadata": {},
   "source": [
    "So you need: the indices for X and the indices for Z\n",
    "\n",
    "You can then extract the relevant submatrices and perform the computation."
   ]
  },
  {
   "cell_type": "markdown",
   "metadata": {},
   "source": [
    "## Example: Compute Cov(0, 1 | 2)"
   ]
  },
  {
   "cell_type": "code",
   "execution_count": 7,
   "metadata": {},
   "outputs": [],
   "source": [
    "targets = [0, 1]\n",
    "condset = [2]"
   ]
  },
  {
   "cell_type": "code",
   "execution_count": 8,
   "metadata": {},
   "outputs": [
    {
     "data": {
      "text/plain": [
       "[1 0]\n",
       "[0 1]"
      ]
     },
     "execution_count": 8,
     "metadata": {},
     "output_type": "execute_result"
    }
   ],
   "source": [
    "SigmaX = extract_submatrix(targets, targets, Cov_total)\n",
    "\n",
    "SigmaX"
   ]
  },
  {
   "cell_type": "code",
   "execution_count": 9,
   "metadata": {},
   "outputs": [
    {
     "data": {
      "text/plain": [
       "[beta02]\n",
       "[beta12]"
      ]
     },
     "execution_count": 9,
     "metadata": {},
     "output_type": "execute_result"
    }
   ],
   "source": [
    "SigmaXZ = extract_submatrix(targets, condset, Cov_total)\n",
    "SigmaXZ"
   ]
  },
  {
   "cell_type": "code",
   "execution_count": 10,
   "metadata": {},
   "outputs": [
    {
     "data": {
      "text/plain": [
       "[beta02^2 + beta12^2 + 1]"
      ]
     },
     "execution_count": 10,
     "metadata": {},
     "output_type": "execute_result"
    }
   ],
   "source": [
    "SigmaZ = extract_submatrix(condset, condset, Cov_total)\n",
    "\n",
    "SigmaZ"
   ]
  },
  {
   "cell_type": "code",
   "execution_count": 11,
   "metadata": {
    "scrolled": true
   },
   "outputs": [
    {
     "data": {
      "text/plain": [
       "[ -beta02^2/(beta02^2 + beta12^2 + 1) + 1 -beta02*beta12/(beta02^2 + beta12^2 + 1)]\n",
       "[-beta02*beta12/(beta02^2 + beta12^2 + 1)  -beta12^2/(beta02^2 + beta12^2 + 1) + 1]"
      ]
     },
     "execution_count": 11,
     "metadata": {},
     "output_type": "execute_result"
    }
   ],
   "source": [
    "SigmaXgZ = SigmaX  - SigmaXZ*SigmaZ.inverse()*SigmaXZ.T\n",
    "SigmaXgZ"
   ]
  },
  {
   "cell_type": "markdown",
   "metadata": {},
   "source": [
    "$$\n",
    "\\begin{aligned}  \n",
    "\t \\Sigma_{X \\mid Z} &= \\Sigma_{X} - \\Sigma_{XZ} \\Sigma_{ZZ}^{-1} \\Sigma_{ZX} \\\\\n",
    "     \\Sigma_{X \\mid Z} &= \\Sigma_{X} - \\Sigma_{XZ} \\Sigma_{ZZ}^{-1} \\Sigma_{XZ}^{T}\n",
    "\\end{aligned}\n",
    "$$"
   ]
  },
  {
   "cell_type": "code",
   "execution_count": 12,
   "metadata": {},
   "outputs": [
    {
     "data": {
      "text/plain": [
       "[ -beta02^2/(beta02^2 + beta12^2 + 1) + 1 -beta02*beta12/(beta02^2 + beta12^2 + 1)]\n",
       "[-beta02*beta12/(beta02^2 + beta12^2 + 1)  -beta12^2/(beta02^2 + beta12^2 + 1) + 1]"
      ]
     },
     "execution_count": 12,
     "metadata": {},
     "output_type": "execute_result"
    }
   ],
   "source": [
    "partial_covariance_matrix(targets, condset, Cov_total)"
   ]
  },
  {
   "cell_type": "markdown",
   "metadata": {},
   "source": [
    "## Example: Cov(0, 4 | 3)\n",
    "\n",
    "This **should be** 0."
   ]
  },
  {
   "cell_type": "code",
   "execution_count": 13,
   "metadata": {},
   "outputs": [
    {
     "data": {
      "text/plain": [
       "0"
      ]
     },
     "execution_count": 13,
     "metadata": {},
     "output_type": "execute_result"
    }
   ],
   "source": [
    "targets = [0, 4]\n",
    "condset = [3]\n",
    "\n",
    "#partial_covariance_matrix(targets, condset, Cov_total)\n",
    "partial_covariance_matrix(targets, condset, Cov_total)[0, 1].full_simplify()"
   ]
  },
  {
   "cell_type": "markdown",
   "metadata": {},
   "source": [
    "## Example Cov(1, 2 | 0, 3, 4, 5)"
   ]
  },
  {
   "cell_type": "markdown",
   "metadata": {},
   "source": [
    "Z2 **should not** be independent of Z3 conditional on the other variables if the distribution is faithful to the DAG."
   ]
  },
  {
   "cell_type": "code",
   "execution_count": 14,
   "metadata": {},
   "outputs": [
    {
     "data": {
      "text/plain": [
       "-(beta15*beta25 - beta12)/((beta12^2 + beta15^2 + 1)*beta23^2 + 2*beta12*beta15*beta25 + (beta12^2 + 1)*beta25^2 + beta15^2 + 1)"
      ]
     },
     "execution_count": 14,
     "metadata": {},
     "output_type": "execute_result"
    }
   ],
   "source": [
    "targets = [1, 2]\n",
    "condset = [0, 3, 4, 5]\n",
    "\n",
    "partial_covariance_matrix(targets, condset, Cov_total)[0, 1].full_simplify()"
   ]
  },
  {
   "cell_type": "markdown",
   "metadata": {},
   "source": [
    "# Compute Partial Regression Coefficients from DAG"
   ]
  },
  {
   "cell_type": "markdown",
   "metadata": {},
   "source": [
    "$$\\beta_{YX \\cdot Z} = \\frac{\\gamma_{YX \\cdot Z}}{\\sigma_{X \\cdot Z}^{2}}$$"
   ]
  },
  {
   "cell_type": "code",
   "execution_count": 18,
   "metadata": {},
   "outputs": [],
   "source": [
    "def partial_regression_coefficient(response, predictor, condset, Sigma):\n",
    "\ttargets = [response, predictor]\n",
    "\n",
    "\tSigmaX = extract_submatrix(targets, targets, Sigma)\n",
    "\tSigmaXZ = extract_submatrix(targets, condset, Sigma)\n",
    "\tSigmaZ = extract_submatrix(condset, condset, Sigma)\n",
    "\t\n",
    "\tSigmaXgZ = SigmaX  - SigmaXZ*(SigmaZ.inverse())*SigmaXZ.T\n",
    "\t\n",
    "\treturn SigmaXgZ[0, 1]/SigmaXgZ[1, 1]"
   ]
  },
  {
   "cell_type": "code",
   "execution_count": 21,
   "metadata": {},
   "outputs": [
    {
     "data": {
      "text/plain": [
       "-beta02*beta12/(beta02^2 + beta03^2 + 1)"
      ]
     },
     "execution_count": 21,
     "metadata": {},
     "output_type": "execute_result"
    }
   ],
   "source": [
    "partial_regression_coefficient(0, 1, [2, 3, 4, 5], Cov_total).full_simplify()"
   ]
  },
  {
   "cell_type": "code",
   "execution_count": null,
   "metadata": {},
   "outputs": [],
   "source": []
  }
 ],
 "metadata": {
  "kernelspec": {
   "display_name": "SageMath 9.1",
   "language": "sage",
   "name": "sagemath"
  },
  "language_info": {
   "codemirror_mode": {
    "name": "ipython",
    "version": 2
   },
   "file_extension": ".py",
   "mimetype": "text/x-python",
   "name": "python",
   "nbconvert_exporter": "python",
   "pygments_lexer": "ipython2",
   "version": "2.7.15"
  }
 },
 "nbformat": 4,
 "nbformat_minor": 2
}
