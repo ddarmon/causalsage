{
 "cells": [
  {
   "cell_type": "markdown",
   "metadata": {},
   "source": [
    "# DAG with \"Bad\" Control\n",
    "## 210521"
   ]
  },
  {
   "cell_type": "markdown",
   "metadata": {},
   "source": [
    "![](Model12.png)"
   ]
  },
  {
   "cell_type": "code",
   "execution_count": 1,
   "metadata": {},
   "outputs": [],
   "source": [
    "from causalsage import *"
   ]
  },
  {
   "cell_type": "code",
   "execution_count": 2,
   "metadata": {},
   "outputs": [],
   "source": [
    "%display latex"
   ]
  },
  {
   "cell_type": "code",
   "execution_count": 3,
   "metadata": {},
   "outputs": [
    {
     "data": {
      "text/html": [
       "<html><script type=\"math/tex; mode=display\">\\newcommand{\\Bold}[1]{\\mathbf{#1}}\\left(\\delta, \\gamma, \\beta\\right)</script></html>"
      ],
      "text/plain": [
       "(delta, gamma, beta)"
      ]
     },
     "execution_count": 3,
     "metadata": {},
     "output_type": "execute_result"
    }
   ],
   "source": [
    "for i in range(4):\n",
    "    for j in range(4):\n",
    "    var('w%d%d')"
   ]
  },
  {
   "cell_type": "markdown",
   "metadata": {},
   "source": [
    "# Compute Overall Covariance Matrix from DAG"
   ]
  },
  {
   "cell_type": "markdown",
   "metadata": {},
   "source": [
    "$$W_{ij} = W_{i \\gets j}$$"
   ]
  },
  {
   "cell_type": "code",
   "execution_count": 4,
   "metadata": {},
   "outputs": [
    {
     "data": {
      "text/html": [
       "<html><script type=\"math/tex; mode=display\">\\newcommand{\\Bold}[1]{\\mathbf{#1}}\\left(\\begin{array}{rrr}\n",
       "0 & 0 & 0 \\\\\n",
       "\\beta & 0 & 0 \\\\\n",
       "\\delta & \\gamma & 0\n",
       "\\end{array}\\right)</script></html>"
      ],
      "text/plain": [
       "[    0     0     0]\n",
       "[ beta     0     0]\n",
       "[delta gamma     0]"
      ]
     },
     "execution_count": 4,
     "metadata": {},
     "output_type": "execute_result"
    }
   ],
   "source": [
    "W = matrix([[0, 0, 0], # to 0\n",
    "            [beta, 0, 0], # to 1\n",
    "            [delta, gamma, 0]]) # to 2\n",
    "    \n",
    "W"
   ]
  },
  {
   "cell_type": "code",
   "execution_count": 17,
   "metadata": {},
   "outputs": [
    {
     "data": {
      "text/html": [
       "<html><script type=\"math/tex; mode=display\">\\newcommand{\\Bold}[1]{\\mathbf{#1}}\\left(\\begin{array}{rrr}\n",
       "1 & \\beta & \\beta \\gamma + \\delta \\\\\n",
       "\\beta & \\beta^{2} + 1 & {\\left(\\beta \\gamma + \\delta\\right)} \\beta + \\gamma \\\\\n",
       "\\beta \\gamma + \\delta & {\\left(\\beta \\gamma + \\delta\\right)} \\beta + \\gamma & {\\left(\\beta \\gamma + \\delta\\right)}^{2} + \\gamma^{2} + 1\n",
       "\\end{array}\\right)</script></html>"
      ],
      "text/plain": [
       "[                                   1                                 beta                   beta*gamma + delta]\n",
       "[                                beta                           beta^2 + 1    (beta*gamma + delta)*beta + gamma]\n",
       "[                  beta*gamma + delta    (beta*gamma + delta)*beta + gamma (beta*gamma + delta)^2 + gamma^2 + 1]"
      ]
     },
     "execution_count": 17,
     "metadata": {},
     "output_type": "execute_result"
    }
   ],
   "source": [
    "Cov_total = Sigma_from_W(W)\n",
    "\n",
    "Cov_total"
   ]
  },
  {
   "cell_type": "code",
   "execution_count": 18,
   "metadata": {},
   "outputs": [
    {
     "data": {
      "text/html": [
       "<html><script type=\"math/tex; mode=display\">\\newcommand{\\Bold}[1]{\\mathbf{#1}}\\left[1, \\beta^{2} + 1, {\\left(\\beta \\gamma + \\delta\\right)}^{2} + \\gamma^{2} + 1\\right]</script></html>"
      ],
      "text/plain": [
       "[1, beta^2 + 1, (beta*gamma + delta)^2 + gamma^2 + 1]"
      ]
     },
     "execution_count": 18,
     "metadata": {},
     "output_type": "execute_result"
    }
   ],
   "source": [
    "[Cov_total[i, i] for i in range(3)]"
   ]
  },
  {
   "cell_type": "markdown",
   "metadata": {},
   "source": [
    "# Compute Partial Covariance Matrix from DAG"
   ]
  },
  {
   "cell_type": "markdown",
   "metadata": {},
   "source": [
    "## Example: Compute Cov(0, 1 | 2)"
   ]
  },
  {
   "cell_type": "code",
   "execution_count": 6,
   "metadata": {},
   "outputs": [],
   "source": [
    "targets = [0, 1]\n",
    "condset = [2]"
   ]
  },
  {
   "cell_type": "code",
   "execution_count": 16,
   "metadata": {},
   "outputs": [
    {
     "data": {
      "text/html": [
       "<html><script type=\"math/tex; mode=display\">\\newcommand{\\Bold}[1]{\\mathbf{#1}}\\left(\\begin{array}{rr}\n",
       "-\\frac{{\\left(\\beta \\gamma + \\delta\\right)}^{2}}{{\\left(\\beta \\gamma + \\delta\\right)}^{2} + \\gamma^{2} + 1} + 1 & -\\frac{{\\left({\\left(\\beta \\gamma + \\delta\\right)} \\beta + \\gamma\\right)} {\\left(\\beta \\gamma + \\delta\\right)}}{{\\left(\\beta \\gamma + \\delta\\right)}^{2} + \\gamma^{2} + 1} + \\beta \\\\\n",
       "-\\frac{{\\left({\\left(\\beta \\gamma + \\delta\\right)} \\beta + \\gamma\\right)} {\\left(\\beta \\gamma + \\delta\\right)}}{{\\left(\\beta \\gamma + \\delta\\right)}^{2} + \\gamma^{2} + 1} + \\beta & \\beta^{2} - \\frac{{\\left({\\left(\\beta \\gamma + \\delta\\right)} \\beta + \\gamma\\right)}^{2}}{{\\left(\\beta \\gamma + \\delta\\right)}^{2} + \\gamma^{2} + 1} + 1\n",
       "\\end{array}\\right)</script></html>"
      ],
      "text/plain": [
       "[                                     -(beta*gamma + delta)^2/((beta*gamma + delta)^2 + gamma^2 + 1) + 1 -((beta*gamma + delta)*beta + gamma)*(beta*gamma + delta)/((beta*gamma + delta)^2 + gamma^2 + 1) + beta]\n",
       "[-((beta*gamma + delta)*beta + gamma)*(beta*gamma + delta)/((beta*gamma + delta)^2 + gamma^2 + 1) + beta               beta^2 - ((beta*gamma + delta)*beta + gamma)^2/((beta*gamma + delta)^2 + gamma^2 + 1) + 1]"
      ]
     },
     "execution_count": 16,
     "metadata": {},
     "output_type": "execute_result"
    }
   ],
   "source": [
    "partial_covariance_matrix(targets, condset, Cov_total)"
   ]
  },
  {
   "cell_type": "markdown",
   "metadata": {},
   "source": [
    "# Compute Partial Regression Coefficients from DAG"
   ]
  },
  {
   "cell_type": "markdown",
   "metadata": {},
   "source": [
    "$$\\beta_{YX \\cdot Z} = \\frac{\\gamma_{YX \\cdot Z}}{\\sigma_{X \\cdot Z}^{2}}$$"
   ]
  },
  {
   "cell_type": "markdown",
   "metadata": {},
   "source": [
    "## $\\beta_{21}$ vs. $\\beta_{21 \\cdot 0}$"
   ]
  },
  {
   "cell_type": "code",
   "execution_count": 12,
   "metadata": {
    "scrolled": true
   },
   "outputs": [
    {
     "data": {
      "text/html": [
       "<html><script type=\"math/tex; mode=display\">\\newcommand{\\Bold}[1]{\\mathbf{#1}}\\frac{\\beta \\delta + {\\left(\\beta^{2} + 1\\right)} \\gamma}{\\beta^{2} + 1}</script></html>"
      ],
      "text/plain": [
       "(beta*delta + (beta^2 + 1)*gamma)/(beta^2 + 1)"
      ]
     },
     "execution_count": 12,
     "metadata": {},
     "output_type": "execute_result"
    }
   ],
   "source": [
    "partial_regression_coefficient(response=2, predictor=1, condset=[], Sigma=Cov_total).full_simplify()"
   ]
  },
  {
   "cell_type": "markdown",
   "metadata": {},
   "source": [
    "$\\dfrac{\\beta \\delta + {\\left(\\beta^{2} + 1\\right)} \\gamma}{\\beta^{2} + 1} = \\dfrac{\\beta \\delta}{\\beta^{2} + 1} + \\gamma$"
   ]
  },
  {
   "cell_type": "code",
   "execution_count": 13,
   "metadata": {},
   "outputs": [
    {
     "data": {
      "text/html": [
       "<html><script type=\"math/tex; mode=display\">\\newcommand{\\Bold}[1]{\\mathbf{#1}}\\gamma</script></html>"
      ],
      "text/plain": [
       "gamma"
      ]
     },
     "execution_count": 13,
     "metadata": {},
     "output_type": "execute_result"
    }
   ],
   "source": [
    "partial_regression_coefficient(response=2, predictor=1, condset=[0], Sigma=Cov_total).full_simplify()"
   ]
  },
  {
   "cell_type": "markdown",
   "metadata": {},
   "source": [
    "### $\\beta_{20}$ vs. $\\beta_{20 \\cdot 1}$"
   ]
  },
  {
   "cell_type": "code",
   "execution_count": 14,
   "metadata": {},
   "outputs": [
    {
     "data": {
      "text/html": [
       "<html><script type=\"math/tex; mode=display\">\\newcommand{\\Bold}[1]{\\mathbf{#1}}\\beta \\gamma + \\delta</script></html>"
      ],
      "text/plain": [
       "beta*gamma + delta"
      ]
     },
     "execution_count": 14,
     "metadata": {},
     "output_type": "execute_result"
    }
   ],
   "source": [
    "partial_regression_coefficient(response=2, predictor=0, condset=[], Sigma=Cov_total).full_simplify()"
   ]
  },
  {
   "cell_type": "code",
   "execution_count": 15,
   "metadata": {},
   "outputs": [
    {
     "data": {
      "text/html": [
       "<html><script type=\"math/tex; mode=display\">\\newcommand{\\Bold}[1]{\\mathbf{#1}}\\delta</script></html>"
      ],
      "text/plain": [
       "delta"
      ]
     },
     "execution_count": 15,
     "metadata": {},
     "output_type": "execute_result"
    }
   ],
   "source": [
    "partial_regression_coefficient(response=2, predictor=0, condset=[1], Sigma=Cov_total).full_simplify()"
   ]
  }
 ],
 "metadata": {
  "kernelspec": {
   "display_name": "SageMath 9.1",
   "language": "sage",
   "name": "sagemath"
  },
  "language_info": {
   "codemirror_mode": {
    "name": "ipython",
    "version": 2
   },
   "file_extension": ".py",
   "mimetype": "text/x-python",
   "name": "python",
   "nbconvert_exporter": "python",
   "pygments_lexer": "ipython2",
   "version": "2.7.15"
  }
 },
 "nbformat": 4,
 "nbformat_minor": 2
}
